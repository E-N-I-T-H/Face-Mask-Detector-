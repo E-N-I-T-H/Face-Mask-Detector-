{
  "nbformat": 4,
  "nbformat_minor": 0,
  "metadata": {
    "colab": {
      "name": "Mask Detector.ipynb",
      "provenance": [],
      "collapsed_sections": [],
      "authorship_tag": "ABX9TyMRbuvlYBbfRmkorHH7Ov/y",
      "include_colab_link": true
    },
    "kernelspec": {
      "name": "python3",
      "display_name": "Python 3"
    },
    "accelerator": "GPU"
  },
  "cells": [
    {
      "cell_type": "markdown",
      "metadata": {
        "id": "view-in-github",
        "colab_type": "text"
      },
      "source": [
        "<a href=\"https://colab.research.google.com/github/kauravs1222/Face-Mask-Detector/blob/master/Mask_Detector.ipynb\" target=\"_parent\"><img src=\"https://colab.research.google.com/assets/colab-badge.svg\" alt=\"Open In Colab\"/></a>"
      ]
    },
    {
      "cell_type": "markdown",
      "metadata": {
        "id": "uX0HKz3X55zT",
        "colab_type": "text"
      },
      "source": [
        "# **Mask Detection Model For Single Image**"
      ]
    },
    {
      "cell_type": "markdown",
      "metadata": {
        "id": "v5CYE3OS57yV",
        "colab_type": "text"
      },
      "source": [
        "- Importing Libraries"
      ]
    },
    {
      "cell_type": "code",
      "metadata": {
        "id": "NGfUPK9n6Mb1",
        "colab_type": "code",
        "colab": {}
      },
      "source": [
        "import tensorflow.keras\n",
        "from PIL import Image, ImageOps\n",
        "import numpy as np\n",
        "import cv2\n",
        "import matplotlib.pyplot as plt"
      ],
      "execution_count": 0,
      "outputs": []
    },
    {
      "cell_type": "markdown",
      "metadata": {
        "id": "kXfhuI6C6UaW",
        "colab_type": "text"
      },
      "source": [
        "- Download Pre-Trained Model and Haarcascades File"
      ]
    },
    {
      "cell_type": "code",
      "metadata": {
        "id": "bFIZ_wgq6hHY",
        "colab_type": "code",
        "colab": {}
      },
      "source": [
        "!wget https://github.com/kauravs1222/Face-Mask-Detector/blob/master/keras_model.h5\n",
        "!wget https://raw.githubusercontent.com/opencv/opencv/master/data/haarcascades/haarcascade_frontalface_default.xml"
      ],
      "execution_count": 0,
      "outputs": []
    },
    {
      "cell_type": "markdown",
      "metadata": {
        "id": "OVVtYyMD7cLd",
        "colab_type": "text"
      },
      "source": [
        "- Load Pre-trained Model"
      ]
    },
    {
      "cell_type": "code",
      "metadata": {
        "id": "hJZHIJ9Y76z9",
        "colab_type": "code",
        "colab": {}
      },
      "source": [
        "# Disable scientific notation for clarity\n",
        "np.set_printoptions(suppress=True)\n",
        "\n",
        "# Load the model\n",
        "model = tensorflow.keras.models.load_model('/content/keras_model.h5', compile=False)"
      ],
      "execution_count": 0,
      "outputs": []
    },
    {
      "cell_type": "markdown",
      "metadata": {
        "id": "NuN1IEGv_EhW",
        "colab_type": "text"
      },
      "source": [
        "- Upload image to work with"
      ]
    },
    {
      "cell_type": "code",
      "metadata": {
        "id": "-ivpvnFu_IH4",
        "colab_type": "code",
        "colab": {}
      },
      "source": [
        "from google.colab import files\n",
        "file=files.upload()"
      ],
      "execution_count": 0,
      "outputs": []
    },
    {
      "cell_type": "markdown",
      "metadata": {
        "id": "rHaRmtje774f",
        "colab_type": "text"
      },
      "source": [
        "- Take Image and Converts it"
      ]
    },
    {
      "cell_type": "code",
      "metadata": {
        "id": "zaSRm7CB8bTR",
        "colab_type": "code",
        "colab": {}
      },
      "source": [
        "# Create the array of the right shape to feed into the keras model\n",
        "# The 'length' or number of images you can put into the array is\n",
        "# determined by the first position in the shape tuple, in this case 1.\n",
        "data = np.ndarray(shape=(1, 224, 224, 3), dtype=np.float32)\n",
        "\n",
        "#Change path with your file path\n",
        "image_path = '/content/images (1).jpg'\n",
        "\n",
        "# Replace this with the path to your image\n",
        "image = Image.open(image_path)\n",
        "\n",
        "normal = plt.imshow(image)\n",
        "\n",
        "#resize the image to a 224x224 with the same strategy as in TM2:\n",
        "#resizing the image to be at least 224x224 and then cropping from the center\n",
        "size = (224, 224)\n",
        "image = ImageOps.fit(image, size, Image.ANTIALIAS)\n",
        "\n",
        "#turn the image into a numpy array\n",
        "image_array = np.asarray(image)\n",
        "\n",
        "# display the resized image\n",
        "image.show()\n",
        "\n",
        "# Normalize the image\n",
        "normalized_image_array = (image_array.astype(np.float32) / 127.0) - 1\n",
        "\n",
        "# Load the image into the array\n",
        "data[0] = normalized_image_array"
      ],
      "execution_count": 0,
      "outputs": []
    },
    {
      "cell_type": "markdown",
      "metadata": {
        "id": "L0gbXBz88cPZ",
        "colab_type": "text"
      },
      "source": [
        "- Predict the Image and Define Label"
      ]
    },
    {
      "cell_type": "code",
      "metadata": {
        "id": "i0URQDok8uda",
        "colab_type": "code",
        "colab": {}
      },
      "source": [
        "# run the inference\n",
        "prediction = model.predict(data)\n",
        "\n",
        "prediction = prediction.argmax(axis=-1)\n",
        "#print(prediction)\n",
        "\n",
        "label = \"Mask On\" if prediction == 0 else \"No Mask\"\n",
        "color = (0, 255, 0) if prediction == 0 else (255, 0, 0)"
      ],
      "execution_count": 0,
      "outputs": []
    },
    {
      "cell_type": "markdown",
      "metadata": {
        "id": "UGXlaIjF8yTO",
        "colab_type": "text"
      },
      "source": [
        "- Detect Face and make box"
      ]
    },
    {
      "cell_type": "code",
      "metadata": {
        "id": "TrQZ0KoK98oX",
        "colab_type": "code",
        "colab": {}
      },
      "source": [
        "face_cascade = cv2.CascadeClassifier('haarcascade_frontalface_default.xml')\n",
        "img = cv2.imread(image_path)\n",
        "gray = cv2.cvtColor(img, cv2.COLOR_BGR2GRAY)\n",
        "faces = face_cascade.detectMultiScale(gray, 1.3, 5)\n",
        "\n",
        "im_rgb = cv2.cvtColor(img, cv2.COLOR_BGR2RGB)\n",
        "\n",
        "#Creating Box for face\n",
        "if(len(faces)!=0):\n",
        "  for (x,y,w,h) in faces:\n",
        "      cv2.rectangle(im_rgb,(x,y),(x+w,y+h),color, 4)\n",
        "\n",
        "  cv2.rectangle(im_rgb, (x,y), (x+w,y-35), color, cv2.FILLED)\n",
        "  cv2.putText(im_rgb, label, (x+5, y-10), cv2.FONT_HERSHEY_SIMPLEX, 0.9, (255,255,255), 2, cv2.LINE_AA)\n",
        "   \n",
        "else:\n",
        "  cv2.rectangle(im_rgb, (5,37), (140,5), color, cv2.FILLED)\n",
        "  cv2.putText(im_rgb, label, (10, 30), cv2.FONT_HERSHEY_SIMPLEX, 0.9, (255,255,255), 2, cv2.LINE_AA)\n",
        "\n",
        "detect = plt.imshow(im_rgb)"
      ],
      "execution_count": 0,
      "outputs": []
    }
  ]
}